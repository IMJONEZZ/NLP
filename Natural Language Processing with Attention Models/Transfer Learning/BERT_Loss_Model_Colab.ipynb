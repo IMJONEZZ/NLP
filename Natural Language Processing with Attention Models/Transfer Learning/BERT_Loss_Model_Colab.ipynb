{
  "nbformat": 4,
  "nbformat_minor": 0,
  "metadata": {
    "accelerator": "GPU",
    "colab": {
      "name": "BERT QA Model.ipynb",
      "provenance": [],
      "collapsed_sections": [],
      "toc_visible": true
    },
    "kernelspec": {
      "name": "python3",
      "display_name": "Python 3"
    }
  },
  "cells": [
    {
      "cell_type": "markdown",
      "metadata": {
        "id": "7yuytuIllsv1"
      },
      "source": [
        "# Assignment 3, Part 1: BERT Loss Model \n",
        "\n",
        "Welcome to the part 1 of testing the models for this week's assignment. We will perform decoding using the BERT Loss model. In this notebook we'll use an input, mask (hide) random word(s) in it and see how well we get the \"Target\" answer(s). \n",
        "\n",
        "## IMPORTANT\n",
        "\n",
        "- As you cannot save the changes you make to this colab, you have to make a copy of this notebook in your own drive and run that. You can do so by going to `File -> Save a copy in Drive`. Close this colab and open the copy which you have made in your own drive.\n",
        "\n",
        "- Go to this [google drive folder](https://drive.google.com/drive/folders/1rOZsbEzcpMRVvgrRULRh1JPFpkIG_JOz?usp=sharing) named `NLP C4 W3 Data`. In the folder, next to its name use the drop down menu to select `\"Add shortcut to Drive\" -> \"My Drive\" and then press ADD SHORTCUT`. This should add a shortcut to the folder `NLP C4 W3 Data` within your own google drive. Please make sure this happens, as you'll be reading the data for this notebook from this folder.\n",
        "\n",
        "- Make sure your runtime is GPU (_not_ CPU or TPU). And if it is an option, make sure you are using _Python 3_. You can select these settings by going to `Runtime -> Change runtime type -> Select the above mentioned settings and then press SAVE`"
      ]
    },
    {
      "cell_type": "markdown",
      "metadata": {
        "id": "Db6LQW5cMSgx"
      },
      "source": [
        "**Note: Restarting the runtime maybe required**.\n",
        "\n",
        "Colab will tell you if the restarting is necessary -- you can do this from the:\n",
        "\n",
        "Runtime > Restart Runtime\n",
        "\n",
        "option in the dropdown."
      ]
    },
    {
      "cell_type": "markdown",
      "metadata": {
        "id": "qibASJKuDxpm"
      },
      "source": [
        "## Outline\n",
        "\n",
        "- [Part 0: Downloading and loading dependencies](#0)\n",
        "- [Part 1: Mounting your drive for data accessibility](#1)\n",
        "- [Part 2: Getting things ready](#2)\n",
        "- [Part 3: Part 3: BERT Loss](#3)\n",
        "    - [3.1 Decoding](#3.1)"
      ]
    },
    {
      "cell_type": "markdown",
      "metadata": {
        "id": "ysxogfC1M158"
      },
      "source": [
        "<a name='0'></a>\n",
        "# Part 0: Downloading and loading dependencies\n",
        "\n",
        "Uncomment the code cell below and run it to download some dependencies that you will need. You need to download them once every time you open the colab. You can ignore the `kfac` error."
      ]
    },
    {
      "cell_type": "code",
      "metadata": {
        "id": "1BNZzCg0xv3R",
        "outputId": "8d2f9673-00f5-4660-e1b3-68aadeb8517c",
        "colab": {
          "base_uri": "https://localhost:8080/",
          "height": 455
        }
      },
      "source": [
        "!pip -q install trax"
      ],
      "execution_count": 3,
      "outputs": [
        {
          "output_type": "stream",
          "text": [
            "\u001b[K     |████████████████████████████████| 419kB 4.5MB/s \n",
            "\u001b[K     |████████████████████████████████| 1.5MB 12.9MB/s \n",
            "\u001b[K     |████████████████████████████████| 163kB 33.8MB/s \n",
            "\u001b[K     |████████████████████████████████| 2.6MB 29.1MB/s \n",
            "\u001b[K     |████████████████████████████████| 5.3MB 27.9MB/s \n",
            "\u001b[K     |████████████████████████████████| 368kB 51.1MB/s \n",
            "\u001b[K     |████████████████████████████████| 194kB 54.5MB/s \n",
            "\u001b[K     |████████████████████████████████| 307kB 52.1MB/s \n",
            "\u001b[K     |████████████████████████████████| 81kB 11.2MB/s \n",
            "\u001b[K     |████████████████████████████████| 983kB 46.4MB/s \n",
            "\u001b[K     |████████████████████████████████| 655kB 56.7MB/s \n",
            "\u001b[K     |████████████████████████████████| 358kB 51.7MB/s \n",
            "\u001b[K     |████████████████████████████████| 1.1MB 52.9MB/s \n",
            "\u001b[K     |████████████████████████████████| 3.5MB 56.8MB/s \n",
            "\u001b[K     |████████████████████████████████| 1.1MB 38.0MB/s \n",
            "\u001b[K     |████████████████████████████████| 71kB 10.1MB/s \n",
            "\u001b[K     |████████████████████████████████| 245kB 44.2MB/s \n",
            "\u001b[K     |████████████████████████████████| 51kB 8.3MB/s \n",
            "\u001b[K     |████████████████████████████████| 3.0MB 42.1MB/s \n",
            "\u001b[K     |████████████████████████████████| 890kB 47.1MB/s \n",
            "\u001b[?25h  Building wheel for bz2file (setup.py) ... \u001b[?25l\u001b[?25hdone\n",
            "  Building wheel for pypng (setup.py) ... \u001b[?25l\u001b[?25hdone\n",
            "  Building wheel for sacremoses (setup.py) ... \u001b[?25l\u001b[?25hdone\n",
            "\u001b[31mERROR: kfac 0.2.3 has requirement tensorflow-probability==0.8, but you'll have tensorflow-probability 0.7.0 which is incompatible.\u001b[0m\n"
          ],
          "name": "stdout"
        }
      ]
    },
    {
      "cell_type": "code",
      "metadata": {
        "id": "uDhi6qLQMHzs",
        "outputId": "fef9a584-e36e-4634-98d8-6714536ffae2",
        "colab": {
          "base_uri": "https://localhost:8080/",
          "height": 35
        }
      },
      "source": [
        "import pickle\n",
        "import string\n",
        "import ast\n",
        "import numpy as np\n",
        "import trax \n",
        "from trax.supervised import decoding\n",
        "import textwrap \n",
        "# Will come handy later.\n",
        "wrapper = textwrap.TextWrapper(width=70)"
      ],
      "execution_count": 4,
      "outputs": [
        {
          "output_type": "stream",
          "text": [
            "INFO:tensorflow:tokens_length=568 inputs_length=512 targets_length=114 noise_density=0.15 mean_noise_span_length=3.0 \n"
          ],
          "name": "stdout"
        }
      ]
    },
    {
      "cell_type": "markdown",
      "metadata": {
        "id": "Cwr7LoXwQUW5"
      },
      "source": [
        "<a name='1'></a>\n",
        "# Part 1: Mounting your drive for data accessibility\n",
        "\n",
        "Run the code cell below and follow the instructions to mount your drive. The data is the same as used in the coursera version of the assignment."
      ]
    },
    {
      "cell_type": "code",
      "metadata": {
        "id": "P7ZF7KiXzQEg",
        "outputId": "a33c284e-2c04-4d4a-878e-0537c5a1eabd",
        "colab": {
          "base_uri": "https://localhost:8080/",
          "height": 35
        }
      },
      "source": [
        "from google.colab import drive\n",
        "drive.mount('/content/drive/', force_remount=True)"
      ],
      "execution_count": 5,
      "outputs": [
        {
          "output_type": "stream",
          "text": [
            "Mounted at /content/drive/\n"
          ],
          "name": "stdout"
        }
      ]
    },
    {
      "cell_type": "markdown",
      "metadata": {
        "id": "otO5C5VwEJoU"
      },
      "source": [
        "<a name='2'></a>\n",
        "# Part 2: Getting things ready \n",
        "\n",
        "Run the code cell below to ready some functions which will later help us in decoding. The code and the functions are the same as the ones you previsouly ran on the coursera version of the assignment."
      ]
    },
    {
      "cell_type": "code",
      "metadata": {
        "id": "dSmcZ_t8HBq6"
      },
      "source": [
        "example_jsons = list(map(ast.literal_eval, open(\"/content/drive/My Drive/NLP C4 W3 Data/data.txt\")))\n",
        "\n",
        "natural_language_texts = [example_json['text'] for example_json in example_jsons]\n",
        "\n",
        "PAD, EOS, UNK = 0, 1, 2\n",
        " \n",
        "def detokenize(np_array):\n",
        "  return trax.data.detokenize(\n",
        "      np_array,\n",
        "      vocab_type='sentencepiece',\n",
        "      vocab_file='sentencepiece.model',\n",
        "      vocab_dir='/content/drive/My Drive/NLP C4 W3 Data/')\n",
        " \n",
        "def tokenize(s):\n",
        "  # The trax.data.tokenize function operates on streams,\n",
        "  # that's why we have to create 1-element stream with iter\n",
        "  # and later retrieve the result with next.\n",
        "  return next(trax.data.tokenize(\n",
        "      iter([s]),\n",
        "      vocab_type='sentencepiece',\n",
        "      vocab_file='sentencepiece.model',\n",
        "      vocab_dir='/content/drive/My Drive/NLP C4 W3 Data/'))\n",
        " \n",
        "vocab_size = trax.data.vocab_size(\n",
        "    vocab_type='sentencepiece',\n",
        "    vocab_file='sentencepiece.model',\n",
        "    vocab_dir='/content/drive/My Drive/NLP C4 W3 Data/')\n",
        "\n",
        "def get_sentinels(vocab_size):\n",
        "    sentinels = {}\n",
        "\n",
        "    for i, char in enumerate(reversed(string.ascii_letters), 1):\n",
        "\n",
        "        decoded_text = detokenize([vocab_size - i]) \n",
        "        \n",
        "        # Sentinels, ex: <Z> - <a>\n",
        "        sentinels[decoded_text] = f'<{char}>'\n",
        "        \n",
        "    return sentinels\n",
        "\n",
        "sentinels = get_sentinels(vocab_size)   \n",
        "\n",
        "\n",
        "def pretty_decode(encoded_str_list, sentinels=sentinels):\n",
        "    # If already a string, just do the replacements.\n",
        "    if isinstance(encoded_str_list, (str, bytes)):\n",
        "        for token, char in sentinels.items():\n",
        "            encoded_str_list = encoded_str_list.replace(token, char)\n",
        "        return encoded_str_list\n",
        "  \n",
        "    # We need to decode and then prettyfy it.\n",
        "    return pretty_decode(detokenize(encoded_str_list))\n",
        "\n",
        "\n",
        "inputs_targets_pairs = []\n",
        "\n",
        "# here you are reading already computed input/target pairs from a file\n",
        "with open ('/content/drive/My Drive/NLP C4 W3 Data/inputs_targets_pairs_file.txt', 'rb') as fp:\n",
        "    inputs_targets_pairs = pickle.load(fp)  \n",
        "\n",
        "\n",
        "def display_input_target_pairs(inputs_targets_pairs):\n",
        "    for i, inp_tgt_pair in enumerate(inputs_targets_pairs, 1):\n",
        "      inps, tgts = inp_tgt_pair\n",
        "      inps, tgts = pretty_decode(inps), pretty_decode(tgts)\n",
        "      print(f'[{i}]\\n'\n",
        "            f'inputs:\\n{wrapper.fill(text=inps)}\\n\\n'\n",
        "            f'targets:\\n{wrapper.fill(text=tgts)}\\n\\n\\n\\n')      "
      ],
      "execution_count": 6,
      "outputs": []
    },
    {
      "cell_type": "code",
      "metadata": {
        "id": "bHLYA6N7Izzi",
        "outputId": "1fa7e314-0551-431e-ed69-ced460c533d5",
        "colab": {
          "base_uri": "https://localhost:8080/",
          "height": 1000
        }
      },
      "source": [
        "display_input_target_pairs(inputs_targets_pairs)"
      ],
      "execution_count": 7,
      "outputs": [
        {
          "output_type": "stream",
          "text": [
            "[1]\n",
            "inputs:\n",
            "Beginners BBQ <Z> Taking <Y> in Missoula! <X> want to get better <W>\n",
            "making delicious <V>? You will have the opportunity, put this on <U>\n",
            "calendar now <T> Thursday, September 22nd<S> World Class BBQ Champion,\n",
            "Tony Balay from Lonestar Smoke Rangers. He<R> be <Q> a beginner<P>\n",
            "class for everyone <O> wants to<N> better <M> their <L> skills. He\n",
            "will teach you <K> you need to know <J> compete in  <I> KCBS BBQ\n",
            "competition, including techniques, recipes,<H>s, meat selection<G>\n",
            "trimming, plus smoker <F> information. The cost to be in the class is\n",
            "$35 per person<E> for spectator<D> is free. Included in the cost will\n",
            "be either a t-shirt or apron and you will<C> tasting samples of each\n",
            "meat that <B>.\n",
            "\n",
            "targets:\n",
            "<Z> Class <Y> Place <X> Do you <W> at <V> BBQ <U> your <T>.<S> join<R>\n",
            "will <Q> teaching<P> level <O> who<N> get <M> with <L> culinary <K>\n",
            "everything <J> to <I>a<H> timeline<G> and <F> and fire<E>, and<D>s\n",
            "it<C> be <B> is prepared\n",
            "\n",
            "\n",
            "\n",
            "\n",
            "[2]\n",
            "inputs:\n",
            "Discussion <Z> ' <Y> X Lion (10.7)' started by  <X>xboi87, Jan <W>\n",
            "2012. I've got a 500gb <V> drive and  <U> 240gb SSD <T> When trying to\n",
            "restore using disk utility i'm given the<S>Not enough space<R> disk\n",
            "___ <Q> to restore<P> But I shouldn't have to do that!!! <O> or<N>s\n",
            "before resorting to the <M>? Use <L> Copy <K>ner to copy one drive to\n",
            "the other. <J>'ve done this several times <I> larger<H>D<G> smaller\n",
            "SSD and I wound up with a bootable SSD drive. One step you have to\n",
            "remember not to skip is <F> use Disk Utility to partition the SSD as\n",
            "GUID partition scheme HFS+<E> doing the<D>ne<C> If it came Apple\n",
            "Partition Scheme, even if you let CCC do the  <B>e <A> the resulting\n",
            "<z> won' <y> be bootable<x> CCC<w> works in \"file mode\" and it can\n",
            "easily copy a larger drive (that's mostly empty) onto<v> drive.<u> you\n",
            "tell CCC to clone <t>a drive <s> did NOT boot from, it can work in<r>\n",
            "copy mode where the destination drive must be the same size or larger\n",
            "than<q> drive you are cloning from<p>if I recall). I've actually done\n",
            "<o> somehow <n> Disk Utility several times <m>booting from <l>a\n",
            "different drive (<k> even the dvd) so not running <j> utility from the\n",
            "drive your cloning) and had it<i> just fine from larger to smaller\n",
            "bootable clone. Definitely<h> drive <g>ning to first, as bootable\n",
            "Apple <f>.. Thanks for pointing this out<e> only experience using DU\n",
            "to go larger to smaller was when I was trying to make <d>a <c> install\n",
            "<b> I was unable to restore InstallESD.d <a>g Théâtre Keep 4 GB USB\n",
            "stick but of course the reason that wouldndürftigt fit isutti was\n",
            "slightly more than 4  Carolyn of data.\n",
            "\n",
            "targets:\n",
            "<Z> in <Y>Mac OS <X>a <W> 20, <V> internal <U>a <T>.<S> error \"<R> on\n",
            "<Q>_<P>\" <O> Any ideas<N> workaround <M> above <L> Carbon <K> Clo <J>\n",
            "I <I> going from<H> HD<G> to <F> to<E> before<D> clo<C>. <B>clon <A>,\n",
            "<z> drive <y>t<x>.<w> usually<v> a smaller<u> If <t>  <s> you<r>\n",
            "block<q> the<p> ( <o> this <n> on <m> ( <l> <k>or <j> disk<i> work<h>\n",
            "format the<g>clo <f> etc<e>. My <d>  <c> Lion <b> stick and <a>m\n",
            "Théâtre toKeepadürftig'utti there CarolynGB\n",
            "\n",
            "\n",
            "\n",
            "\n",
            "[3]\n",
            "inputs:\n",
            "Fo <Z> plaid ly <Y> and <X>dex shortall with metallic slinky insets.\n",
            "Attached metallic elastic <W> with O-ring. <V>band <U>. Great hip hop\n",
            "<T> dance costume. Made in the USA.\n",
            "\n",
            "targets:\n",
            "<Z>il <Y>cra <X> span <W> belt <V> Head <U> included <T> or jazz\n",
            "\n",
            "\n",
            "\n",
            "\n",
            "[4]\n",
            "inputs:\n",
            "How many back <Z>s per day for <Y> site? Discussion in 'Black Hat SEO\n",
            "<X> by Omoplat <W>, Dec 3, 2010. 1) <V> a newly created site, what's\n",
            "the max # back <U>s per day I should do to be <T>? 2) how long do I\n",
            "have to let my site age before I can start<S> blinks? I did about <R>\n",
            "profiles every 24 hours <Q> 10 days for one of<P> sites which had a\n",
            "brand new domain. There is three backlinks for <O> of these<N> profile\n",
            "so thats 18 000 backlinks <M> 24 hours and nothing happened in terms\n",
            "of being penalized or sandboxed. This is now <L> 3 <K> ago and the\n",
            "site is ranking on first page for a lot of my targeted keywords <J>\n",
            "build more you can in starting but <I> manual<H> and not spammy\n",
            "type<G> manual + relevant to the <F>.. then after 1 month you can make\n",
            "a big<E>.. Wow, dude, you built 18k backlinks a day on a brand new<D>?\n",
            "How quickly<C> rank up? What <B> of competition/searches did those\n",
            "keywords have?\n",
            "\n",
            "targets:\n",
            "<Z>link <Y> new <X>' started <W>a <V> for <U>link <T> safe<S> making\n",
            "more<R>6000 forum <Q> for<P> my <O> every<N> forum <M> every <L> maybe\n",
            "<K> months <J>. <I> do<H> submission<G> means <F> post<E> blast<D>\n",
            "site<C> did you <B> kind\n",
            "\n",
            "\n",
            "\n",
            "\n",
            "[5]\n",
            "inputs:\n",
            "The Denver Board of Education opened the 2017-18 school year with an\n",
            "update on projects that include new construction, upgrades, heat\n",
            "mitigation and quality <Z>. We are excited <Y> students will be the\n",
            "<X> of a four year, <W>72 million <V> Obligation Bond. Since the\n",
            "passage of <U> bond, <T> construction team has worked to<S> the\n",
            "projects over the four-year term of<R> bond. Denver <Q> on Tuesday\n",
            "approved<P> and mill funding measures for students in <O> Public\n",
            "Schools, agreeing to invest $5<N> million in bond funding to build and\n",
            "improve schools and $5 <M> million in <L> dollars to support proven\n",
            "initiatives, such as early literacy. Denver voters say yes to bond and\n",
            "mill levy funding support <K> DPS students and schools. Click to learn\n",
            "<J> about the details <I> voter-approved bond measure. Denver voters\n",
            "on Nov. 8 approved bond and mill funding measures for DPS students and\n",
            "schools. Learn<H> about what’s included<G> the mill levy measure.\n",
            "\n",
            "targets:\n",
            "<Z> learning environments <Y> that Denver <X> beneficiaries <W> $5 <V>\n",
            "General <U> the <T> our<S> schedule<R> the <Q> voters<P> bond <O>\n",
            "Denver<N>72 <M>6.6 <L> operating <K> for <J> more <I> of the<H>\n",
            "more<G> in\n",
            "\n",
            "\n",
            "\n",
            "\n"
          ],
          "name": "stdout"
        }
      ]
    },
    {
      "cell_type": "markdown",
      "metadata": {
        "id": "qkfUvyjtEu6J"
      },
      "source": [
        "<a name='3'></a>\n",
        "# Part 3: BERT Loss\n",
        "\n",
        "We will not train the encoder which you have built in the assignment (coursera version). Training it could easily cost you a few days depending on which GPUs/TPUs you are using. Very few people train the full transformer from scratch. Instead, what the majority of people do, they load in a pretrained model, and they fine tune it on a specific task. That is exactly what you are about to do. Let's start by initializing and then loading in the model. \n",
        "\n",
        "Initialize the model from the saved checkpoint."
      ]
    },
    {
      "cell_type": "code",
      "metadata": {
        "id": "Hsqi-dzzxv4e"
      },
      "source": [
        "# Initializing the model\n",
        "model = trax.models.Transformer(\n",
        "    d_ff = 4096,\n",
        "    d_model = 1024,\n",
        "    max_len = 2048,\n",
        "    n_heads = 16,\n",
        "    dropout = 0.1,\n",
        "    input_vocab_size = 32000,\n",
        "    n_encoder_layers = 24,\n",
        "    n_decoder_layers = 24,\n",
        "    mode='predict')  # Change to 'eval' for slow decoding."
      ],
      "execution_count": 8,
      "outputs": []
    },
    {
      "cell_type": "code",
      "metadata": {
        "id": "lOB1C131xv4i"
      },
      "source": [
        "# Now load in the model\n",
        "# this takes about 1 minute\n",
        "shape11 = trax.shapes.ShapeDtype((1, 1), dtype=np.int32)  # Needed in predict mode.\n",
        "model.init_from_file('/content/drive/My Drive/NLP C4 W3 Data/models/model.pkl.gz',\n",
        "                     weights_only=True, input_signature=(shape11, shape11))"
      ],
      "execution_count": 9,
      "outputs": []
    },
    {
      "cell_type": "code",
      "metadata": {
        "id": "9Wy3pr4ZfzA_"
      },
      "source": [
        "# Uncomment to see the transformer's structure.\n",
        "# print(model)"
      ],
      "execution_count": 10,
      "outputs": []
    },
    {
      "cell_type": "markdown",
      "metadata": {
        "id": "HuTyft5EBQK6"
      },
      "source": [
        "<a name='3.1'></a>\n",
        "### 3.1 Decoding\n",
        "\n",
        "Now you will use one of the `inputs_targets_pairs` for input and as target. Next you will use the `pretty_decode` to output the input and target. The code to perform all of this has been provided below."
      ]
    },
    {
      "cell_type": "code",
      "metadata": {
        "id": "LJ8s_xZ1QtkI",
        "outputId": "d36e9252-9b97-49bd-edbb-adc5e6eef5fe",
        "colab": {
          "base_uri": "https://localhost:8080/",
          "height": 348
        }
      },
      "source": [
        "# # using the 3rd example\n",
        "# c4_input = inputs_targets_pairs[2][0]\n",
        "# c4_target = inputs_targets_pairs[2][1]\n",
        "\n",
        "# using the 1st example\n",
        "c4_input = inputs_targets_pairs[0][0]\n",
        "c4_target = inputs_targets_pairs[0][1]\n",
        "\n",
        "print('pretty_decoded input: \\n\\n', pretty_decode(c4_input))\n",
        "print('\\npretty_decoded target: \\n\\n', pretty_decode(c4_target))\n",
        "print('\\nc4_input:\\n\\n', c4_input)\n",
        "print('\\nc4_target:\\n\\n', c4_target)\n",
        "print(len(c4_target))\n",
        "print(len(pretty_decode(c4_target)))"
      ],
      "execution_count": 11,
      "outputs": [
        {
          "output_type": "stream",
          "text": [
            "pretty_decoded input: \n",
            "\n",
            " Beginners BBQ <Z> Taking <Y> in Missoula! <X> want to get better <W> making delicious <V>? You will have the opportunity, put this on <U> calendar now <T> Thursday, September 22nd<S> World Class BBQ Champion, Tony Balay from Lonestar Smoke Rangers. He<R> be <Q> a beginner<P> class for everyone <O> wants to<N> better <M> their <L> skills. He will teach you <K> you need to know <J> compete in  <I> KCBS BBQ competition, including techniques, recipes,<H>s, meat selection<G> trimming, plus smoker <F> information. The cost to be in the class is $35 per person<E> for spectator<D> is free. Included in the cost will be either a t-shirt or apron and you will<C> tasting samples of each meat that <B>.\n",
            "\n",
            "pretty_decoded target: \n",
            "\n",
            " <Z> Class <Y> Place <X> Do you <W> at <V> BBQ <U> your <T>.<S> join<R> will <Q> teaching<P> level <O> who<N> get <M> with <L> culinary <K> everything <J> to <I>a<H> timeline<G> and <F> and fire<E>, and<D>s it<C> be <B> is prepared\n",
            "\n",
            "c4_input:\n",
            "\n",
            " [12847, 277, 15068, 31999, 3, 12297, 31998, 16, 5964, 7115, 9, 55, 31997, 241, 12, 129, 394, 31996, 492, 3326, 31995, 58, 148, 56, 43, 8, 1004, 6, 474, 48, 30, 31994, 4793, 230, 31993, 2721, 6, 1600, 1630, 727, 31992, 1150, 4501, 15068, 16127, 6, 9137, 2659, 5595, 45, 301, 782, 3624, 14627, 15, 12612, 277, 5, 216, 31991, 36, 31990, 3, 9, 19529, 31989, 853, 21, 921, 31988, 2746, 12, 31987, 394, 31986, 70, 31985, 1098, 5, 216, 56, 3884, 25, 31984, 25, 174, 12, 214, 31983, 5978, 16, 3, 31982, 3, 23405, 4547, 15068, 2259, 6, 379, 2097, 6, 5459, 6, 31981, 7, 6, 3604, 1801, 31980, 27856, 6, 303, 24190, 31979, 251, 5, 37, 583, 12, 36, 16, 8, 853, 19, 25264, 399, 568, 31978, 21, 21380, 31977, 19, 339, 5, 15746, 26, 16, 8, 583, 56, 36, 893, 3, 9, 3, 17, 18, 9486, 42, 3, 9, 1409, 29, 11, 25, 56, 31976, 12246, 5977, 13, 284, 3604, 24, 31975, 5]\n",
            "\n",
            "c4_target:\n",
            "\n",
            " [31999, 4501, 31998, 3399, 31997, 531, 25, 31996, 44, 31995, 15068, 31994, 39, 31993, 5, 31992, 1715, 31991, 56, 31990, 2119, 31989, 593, 31988, 113, 31987, 129, 31986, 28, 31985, 17712, 31984, 762, 31983, 12, 31982, 9, 31981, 13618, 31980, 11, 31979, 11, 1472, 31978, 6, 11, 31977, 7, 34, 31976, 36, 31975, 19, 2657]\n",
            "55\n",
            "230\n"
          ],
          "name": "stdout"
        }
      ]
    },
    {
      "cell_type": "markdown",
      "metadata": {
        "id": "OD9EchfPFlAf"
      },
      "source": [
        "Run the cell below to decode"
      ]
    },
    {
      "cell_type": "code",
      "metadata": {
        "id": "6HwIdimiN0k2",
        "outputId": "8c6a2a45-a434-4027-aa87-bf6dd39b8cd6",
        "colab": {
          "base_uri": "https://localhost:8080/",
          "height": 72
        }
      },
      "source": [
        "# Faster decoding: (still - maybe lower max_length to 20 for speed)\n",
        "# Temperature is a parameter for sampling.\n",
        "#   # * 0.0: same as argmax, always pick the most probable token\n",
        "#   # * 1.0: sampling from the distribution (can sometimes say random things)\n",
        "#   # * values inbetween can trade off diversity and quality, try it out!\n",
        "output = decoding.autoregressive_sample(model, inputs=np.array(c4_input)[None, :],\n",
        "                                        temperature=0.0, max_length=50)\n",
        "print(wrapper.fill(pretty_decode(output[0])))"
      ],
      "execution_count": 12,
      "outputs": [
        {
          "output_type": "stream",
          "text": [
            "<Z> Class <Y> Place <X> Do you <W> at <V> BBQ <U> your <T>! This<S>,\n",
            "is the first class taught by<R> will <Q> teaching<P> BBQ <O> who<N>\n",
            "get <M> at <L> BBQ <K> everything <J> to <I>a<H> judging, judging\n"
          ],
          "name": "stdout"
        }
      ]
    },
    {
      "cell_type": "markdown",
      "metadata": {
        "id": "0n1MG7zNJZdh"
      },
      "source": [
        "### Note: As you can see the RAM is almost full, it is because the model and the decoding is memory heavy. Running it the second time might give you an answer that makes no sense, or repetitive words. If that happens restart the runtime (see how to at the start of the notebook) and run all the cells again."
      ]
    },
    {
      "cell_type": "code",
      "metadata": {
        "id": "7PRbChEc8dqe"
      },
      "source": [
        ""
      ],
      "execution_count": null,
      "outputs": []
    }
  ]
}